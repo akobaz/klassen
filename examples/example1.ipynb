{
 "cells": [
  {
   "cell_type": "markdown",
   "metadata": {},
   "source": [
    "# CPC/IPC Klassen-Statistik"
   ]
  },
  {
   "cell_type": "code",
   "execution_count": 1,
   "metadata": {},
   "outputs": [],
   "source": [
    "# import module with utility functions\n",
    "import klassen_stats"
   ]
  },
  {
   "cell_type": "code",
   "execution_count": 2,
   "metadata": {},
   "outputs": [],
   "source": [
    "# read input from CSV data file\n",
    "data = klassen_stats.ReadCSVFile( '../csv/beispiel.csv' )"
   ]
  },
  {
   "cell_type": "code",
   "execution_count": 3,
   "metadata": {},
   "outputs": [
    {
     "name": "stdout",
     "output_type": "stream",
     "text": [
      "[['Aktennummer', 'Klassen', '', '', '', '', ''], ['A201901', 'A01', 'B02', '', '', '', ''], ['A201902', 'C03', '', '', '', '', '']]\n"
     ]
    }
   ],
   "source": [
    "# show first three lines\n",
    "print( data[0:3] )"
   ]
  },
  {
   "cell_type": "code",
   "execution_count": 4,
   "metadata": {},
   "outputs": [],
   "source": [
    "# generate statistics\n",
    "stat = klassen_stats.GetCounts( data )"
   ]
  },
  {
   "cell_type": "code",
   "execution_count": 5,
   "metadata": {},
   "outputs": [
    {
     "name": "stdout",
     "output_type": "stream",
     "text": [
      "[['A01' '3']\n",
      " ['A02' '2']\n",
      " ['A16' '1']\n",
      " ['A99' '1']\n",
      " ['B01' '1']\n",
      " ['B02' '2']\n",
      " ['B12' '1']\n",
      " ['B32' '1']\n",
      " ['C02' '1']\n",
      " ['C03' '3']\n",
      " ['C23' '1']\n",
      " ['D03' '1']\n",
      " ['D04' '1']\n",
      " ['D05' '1']\n",
      " ['D09' '1']\n",
      " ['D34' '1']\n",
      " ['E04' '1']\n",
      " ['E05' '1']\n",
      " ['E07' '1']\n",
      " ['E27' '1']\n",
      " ['E45' '1']\n",
      " ['F02' '1']\n",
      " ['F05' '1']\n",
      " ['F06' '1']\n",
      " ['F09' '1']\n",
      " ['F56' '1']\n",
      " ['G04' '1']\n",
      " ['G06' '1']\n",
      " ['G07' '1']\n",
      " ['G11' '1']\n",
      " ['G67' '1']\n",
      " ['H03' '1']\n",
      " ['H07' '1']\n",
      " ['H08' '2']\n",
      " ['H13' '1']\n",
      " ['H99' '1']]\n"
     ]
    }
   ],
   "source": [
    "# show statistics overview in table form\n",
    "print( stat )"
   ]
  },
  {
   "cell_type": "code",
   "execution_count": 6,
   "metadata": {},
   "outputs": [
    {
     "data": {
      "image/png": "[encoded data removed]",
      "text/plain": [
       "<Figure size 288x864 with 1 Axes>"
      ]
     },
     "metadata": {
      "needs_background": "light"
     },
     "output_type": "display_data"
    }
   ],
   "source": [
    "# show bar chart\n",
    "klassen_stats.MakePlot( stat )"
   ]
  }
 ],
 "metadata": {
  "kernelspec": {
   "display_name": "Python 3",
   "language": "python",
   "name": "python3"
  },
  "language_info": {
   "codemirror_mode": {
    "name": "ipython",
    "version": 3
   },
   "file_extension": ".py",
   "mimetype": "text/x-python",
   "name": "python",
   "nbconvert_exporter": "python",
   "pygments_lexer": "ipython3",
   "version": "3.7.4"
  }
 },
 "nbformat": 4,
 "nbformat_minor": 2
}
